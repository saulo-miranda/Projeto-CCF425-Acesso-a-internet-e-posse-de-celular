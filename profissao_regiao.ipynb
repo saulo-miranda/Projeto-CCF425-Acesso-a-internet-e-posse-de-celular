{
  "nbformat": 4,
  "nbformat_minor": 0,
  "metadata": {
    "colab": {
      "name": "profissao-regiao.ipynb",
      "provenance": [],
      "collapsed_sections": []
    },
    "kernelspec": {
      "name": "python3",
      "display_name": "Python 3"
    },
    "language_info": {
      "name": "python"
    }
  },
  "cells": [
    {
      "cell_type": "code",
      "execution_count": null,
      "metadata": {
        "id": "Lf7fCgnzsKTa"
      },
      "outputs": [],
      "source": [
        "import pandas as pd\n",
        "!pip install xlrd==1.2.0"
      ]
    },
    {
      "cell_type": "code",
      "source": [
        "!wget https://ftp.ibge.gov.br/Acesso_a_internet_e_posse_celular/2013/tabelas_xls/resultados2005/01usointernet2005.xls\n",
        "!wget https://ftp.ibge.gov.br/Acesso_a_internet_e_posse_celular/2013/tabelas_xls/resultados2008/01usointernet2008.xls\n",
        "!wget https://ftp.ibge.gov.br/Acesso_a_internet_e_posse_celular/2013/tabelas_xls/01pessoas/01usointernet.xls\n"
      ],
      "metadata": {
        "id": "-dAqBaozseRS"
      },
      "execution_count": null,
      "outputs": []
    },
    {
      "cell_type": "code",
      "source": [
        "def filtrar_tabelas(arquivos, tabela, prefixo):\n",
        "  anos = ['2013', '2008', '2005']\n",
        "  for f in arquivos:\n",
        "    df = pd.read_excel(f, sheet_name=tabela, usecols='A:G')\n",
        "    df.rename({\"Unnamed: 1\": \"Brasil\", \"Unnamed: 2\": \"Norte\",\"Unnamed: 3\": \"Nordeste\",\"Unnamed: 4\": \"Sudeste\",\"Unnamed: 5\": \"Sul\",\"Unnamed: 6\": \"Centro-Oeste\"}, axis=1, inplace=True)\n",
        "    df2 = df\n",
        "    df = df.drop(df2.index[0])\n",
        "    df = df.drop(df2.index[1])\n",
        "    df = df.drop(df2.index[2])\n",
        "    df = df.drop(df2.index[3])\n",
        "    df = df[df.index < 37]\n",
        "    df.to_csv('/content/'+prefixo+anos.pop()+'.csv')"
      ],
      "metadata": {
        "id": "_LOofcrjzirs"
      },
      "execution_count": null,
      "outputs": []
    },
    {
      "cell_type": "code",
      "source": [
        "filtrar_tabelas(['01usointernet2005.xls', '01usointernet2008.xls', '01usointernet.xls'], \"Tab 1.1.16.1 e 1.1.16.2\", '16_')\n",
        "filtrar_tabelas(['01usointernet2005.xls', '01usointernet2008.xls', '01usointernet.xls'], \"Tabela 1.1.19.1 e 1.1.19.2\", '19_')"
      ],
      "metadata": {
        "id": "AphXaJGDzu07"
      },
      "execution_count": null,
      "outputs": []
    },
    {
      "cell_type": "code",
      "source": [
        "def separar_dataframes(csvs, limites):\n",
        "  dfs = []\n",
        "  for c in csvs:  \n",
        "    df = pd.read_csv(c)\n",
        "    df = df.drop(columns=['Unnamed: 0'])\n",
        "    df_t = df.iloc[:limites[1],:]\n",
        "    df_u = df.iloc[limites[1]:limites[2]:]\n",
        "    df_n = df.iloc[limites[2]:,:]\n",
        "    df_t['% Brasil'] = (df_t['Brasil']/df_t.at[limites[0], 'Brasil']) * 100\n",
        "    df_u['% Brasil'] = (df_u['Brasil']/df_u.at[limites[1], 'Brasil']) * 100\n",
        "    df_n['% Brasil'] = (df_n['Brasil']/df_n.at[limites[2], 'Brasil']) * 100\n",
        "    v_df = [df_t, df_u, df_n]\n",
        "    dfs.append(v_df)\n",
        "  return dfs"
      ],
      "metadata": {
        "id": "G0t8ko2BsK-O"
      },
      "execution_count": null,
      "outputs": []
    },
    {
      "cell_type": "code",
      "source": [
        "dfs16 = separar_dataframes(['16_2005.csv', '16_2008.csv', '16_2013.csv'], [0,11,22])\n",
        "dfs19 = separar_dataframes(['19_2005.csv', '19_2008.csv', '19_2013.csv'], [0,10,20])"
      ],
      "metadata": {
        "id": "G90Hp9fetC-Z"
      },
      "execution_count": null,
      "outputs": []
    }
  ]
}